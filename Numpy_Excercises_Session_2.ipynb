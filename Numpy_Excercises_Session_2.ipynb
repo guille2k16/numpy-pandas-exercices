{
  "nbformat": 4,
  "nbformat_minor": 0,
  "metadata": {
    "colab": {
      "name": "Numpy_Excercises_Session_2.ipynb",
      "provenance": [],
      "collapsed_sections": [],
      "include_colab_link": true
    },
    "kernelspec": {
      "name": "python3",
      "display_name": "Python 3"
    }
  },
  "cells": [
    {
      "cell_type": "markdown",
      "metadata": {
        "id": "view-in-github",
        "colab_type": "text"
      },
      "source": [
        "<a href=\"https://colab.research.google.com/github/guille2k16/numpy-pandas-exercices/blob/master/Numpy_Excercises_Session_2.ipynb\" target=\"_parent\"><img src=\"https://colab.research.google.com/assets/colab-badge.svg\" alt=\"Open In Colab\"/></a>"
      ]
    },
    {
      "cell_type": "code",
      "metadata": {
        "id": "yZec5gdQULml",
        "colab_type": "code",
        "colab": {}
      },
      "source": [
        "import numpy as np"
      ],
      "execution_count": null,
      "outputs": []
    },
    {
      "cell_type": "markdown",
      "metadata": {
        "id": "ocOTIuRvURnK",
        "colab_type": "text"
      },
      "source": [
        "# Numpy Excercises - Session 2"
      ]
    },
    {
      "cell_type": "markdown",
      "metadata": {
        "id": "uQl1f_E85a0O",
        "colab_type": "text"
      },
      "source": [
        "# Sección nueva"
      ]
    },
    {
      "cell_type": "markdown",
      "metadata": {
        "id": "zgZNJN1vre4L",
        "colab_type": "text"
      },
      "source": [
        "### Exercise 1\n",
        "\n",
        "Reshape `array1` to 7x3 dimensions."
      ]
    },
    {
      "cell_type": "code",
      "metadata": {
        "id": "GcnNr53nri09",
        "colab_type": "code",
        "colab": {}
      },
      "source": [
        "array1 = np.arange(0, 21)\n",
        "#array1 =\n",
        "#test1(array1)\n",
        "array1.reshape((7,3))\n",
        "#test1()"
      ],
      "execution_count": null,
      "outputs": []
    },
    {
      "cell_type": "markdown",
      "metadata": {
        "id": "LBXx2nR5uOdm",
        "colab_type": "text"
      },
      "source": [
        "### Exercise 2\n",
        "\n",
        "Reshape `array2` into a 3D array of 3x3x3 dimensions."
      ]
    },
    {
      "cell_type": "code",
      "metadata": {
        "id": "-ODB-hFEucck",
        "colab_type": "code",
        "colab": {
          "base_uri": "https://localhost:8080/",
          "height": 204
        },
        "outputId": "14277a94-bea0-4649-ca1b-4de5276887e1"
      },
      "source": [
        "array2 = np.arange(0, 27).reshape(9, 3)\n",
        "#array2 = \n",
        "#test2()\n",
        "array2.reshape((3,3,3))"
      ],
      "execution_count": null,
      "outputs": [
        {
          "output_type": "execute_result",
          "data": {
            "text/plain": [
              "array([[[ 0,  1,  2],\n",
              "        [ 3,  4,  5],\n",
              "        [ 6,  7,  8]],\n",
              "\n",
              "       [[ 9, 10, 11],\n",
              "        [12, 13, 14],\n",
              "        [15, 16, 17]],\n",
              "\n",
              "       [[18, 19, 20],\n",
              "        [21, 22, 23],\n",
              "        [24, 25, 26]]])"
            ]
          },
          "metadata": {
            "tags": []
          },
          "execution_count": 5
        }
      ]
    },
    {
      "cell_type": "markdown",
      "metadata": {
        "id": "zjohGksuysL3",
        "colab_type": "text"
      },
      "source": [
        "### Exercise 3: Reshape vs Resize\n",
        "\n",
        "reshape and resize both do the same thin. So, what's the difference?\n",
        "\n",
        "Follow the instructions and find out.\n"
      ]
    },
    {
      "cell_type": "code",
      "metadata": {
        "id": "RMefunZBypgP",
        "colab_type": "code",
        "colab": {
          "base_uri": "https://localhost:8080/",
          "height": 85
        },
        "outputId": "10bd9252-dcc5-42e7-9e38-1607e49b3e0a"
      },
      "source": [
        "# Run this cell without changing the code.\n",
        "array3 = np.arange(0, 9)\n",
        "\n",
        "array3.reshape((3, 3))\n",
        "print(array3)\n",
        "\n",
        "array3.resize((3, 3))\n",
        "print(array3)\n"
      ],
      "execution_count": null,
      "outputs": [
        {
          "output_type": "stream",
          "text": [
            "[0 1 2 3 4 5 6 7 8]\n",
            "[[0 1 2]\n",
            " [3 4 5]\n",
            " [6 7 8]]\n"
          ],
          "name": "stdout"
        }
      ]
    },
    {
      "cell_type": "code",
      "metadata": {
        "id": "ReT0Y4Xo0M7k",
        "colab_type": "code",
        "colab": {}
      },
      "source": [
        "# Question: What is the difference between reshape and resize\n",
        "\n",
        "a = \"resize returns a new copy of the array, while reshape changes the original array\"\n",
        "b = \"reshape returns a new copy of the array, while resize changes the original array\"\n",
        "c = \"both resize and reshape works in the same way with the original array\"\n",
        "#test3()\n",
        "answer = b\n",
        "print(answer)"
      ],
      "execution_count": null,
      "outputs": []
    },
    {
      "cell_type": "markdown",
      "metadata": {
        "id": "BzXy1g-4wYhJ",
        "colab_type": "text"
      },
      "source": [
        "### Exercise 4\n",
        "\n",
        "Concatenate arrays `a`, `b`, and `c`."
      ]
    },
    {
      "cell_type": "code",
      "metadata": {
        "id": "jEziRUU6wniR",
        "colab_type": "code",
        "colab": {
          "base_uri": "https://localhost:8080/",
          "height": 34
        },
        "outputId": "3a2c45e3-b2db-4dff-c7d0-ed111be1c510"
      },
      "source": [
        "a = np.arange(0, 3)\n",
        "b = np.arange(3, 6)\n",
        "c = np.arange(6, 9)\n",
        "#array4 = \n",
        "#test4(array4)\n",
        "np.concatenate([a, b, c])"
      ],
      "execution_count": null,
      "outputs": [
        {
          "output_type": "execute_result",
          "data": {
            "text/plain": [
              "array([0, 1, 2, 3, 4, 5, 6, 7, 8])"
            ]
          },
          "metadata": {
            "tags": []
          },
          "execution_count": 12
        }
      ]
    },
    {
      "cell_type": "markdown",
      "metadata": {
        "id": "UZf-j3DekNJ1",
        "colab_type": "text"
      },
      "source": [
        "### Exercise 5\n",
        "\n",
        "Concatenate arrays `m1` and `m2` vertically."
      ]
    },
    {
      "cell_type": "code",
      "metadata": {
        "id": "zWBry5m0i6Rd",
        "colab_type": "code",
        "colab": {
          "base_uri": "https://localhost:8080/",
          "height": 85
        },
        "outputId": "c034a7c3-52bb-4685-97ae-8fed69f2453a"
      },
      "source": [
        "m1 = np.array(\n",
        "    [\n",
        "      [1, 2, 3, 4],\n",
        "      [5, 6, 7, 8]\n",
        "    ]\n",
        ")\n",
        "\n",
        "m2 = np.array(\n",
        "    [\n",
        "      [9, 10, 11, 12],\n",
        "      [13, 14, 15, 16]\n",
        "    ]\n",
        ")\n",
        "#array5 = \n",
        "#test5(array5)\n",
        "np.vstack([m1, m2])"
      ],
      "execution_count": null,
      "outputs": [
        {
          "output_type": "execute_result",
          "data": {
            "text/plain": [
              "array([[ 1,  2,  3,  4],\n",
              "       [ 5,  6,  7,  8],\n",
              "       [ 9, 10, 11, 12],\n",
              "       [13, 14, 15, 16]])"
            ]
          },
          "metadata": {
            "tags": []
          },
          "execution_count": 14
        }
      ]
    },
    {
      "cell_type": "markdown",
      "metadata": {
        "colab_type": "text",
        "id": "4qQ06IZ1k-TG"
      },
      "source": [
        "### Exercise 6\n",
        "\n",
        "Concatenate arrays `m1` and `m2` horizontally."
      ]
    },
    {
      "cell_type": "code",
      "metadata": {
        "colab_type": "code",
        "id": "jsy33sJ7lFN4",
        "colab": {
          "base_uri": "https://localhost:8080/",
          "height": 51
        },
        "outputId": "cbab2e76-0c4f-4fe0-c210-5d9e97695cc5"
      },
      "source": [
        "m1 = np.array(\n",
        "    [\n",
        "      [1, 2, 3, 4],\n",
        "      [5, 6, 7, 8]\n",
        "    ]\n",
        ")\n",
        "\n",
        "m2 = np.array(\n",
        "    [\n",
        "      [9, 10, 11, 12],\n",
        "      [13, 14, 15, 16]\n",
        "    ]\n",
        ")\n",
        "\n",
        "#array6 = \n",
        "#test6(array7)\n",
        "np.hstack([m1, m2])"
      ],
      "execution_count": null,
      "outputs": [
        {
          "output_type": "execute_result",
          "data": {
            "text/plain": [
              "array([[ 1,  2,  3,  4,  9, 10, 11, 12],\n",
              "       [ 5,  6,  7,  8, 13, 14, 15, 16]])"
            ]
          },
          "metadata": {
            "tags": []
          },
          "execution_count": 15
        }
      ]
    },
    {
      "cell_type": "markdown",
      "metadata": {
        "id": "EZzFNnxx26iu",
        "colab_type": "text"
      },
      "source": [
        "### Exercise 7\n",
        "\n",
        "Get all the cells with value equals to `0` as a list of tuples.\n"
      ]
    },
    {
      "cell_type": "code",
      "metadata": {
        "id": "-_pITT1w3Mys",
        "colab_type": "code",
        "colab": {
          "base_uri": "https://localhost:8080/",
          "height": 119
        },
        "outputId": "d9e63847-46f0-4037-a1cf-f21a18e9735f"
      },
      "source": [
        "matrix = np.array([\n",
        "    [1, 4, 7, 5, 0],\n",
        "    [0, 2, 9, 0, 1],\n",
        "    [3, 6, 0, 5, 3],\n",
        "    [7, 3, 0, 1, 0],\n",
        "    [3, 6, 1, 0, 4]])\n",
        "#array7 = \n",
        "#test5(array7)\n",
        "\n",
        "xx = np.where(matrix == 0)\n",
        "\n",
        "%time l1 = [x for x in zip(xx[0],xx[1])]\n",
        "print(l1)\n",
        "%time l2 = [tuple(x) for x in np.array(xx).T]\n",
        "print(l2)\n",
        "\n"
      ],
      "execution_count": null,
      "outputs": [
        {
          "output_type": "stream",
          "text": [
            "CPU times: user 0 ns, sys: 31 µs, total: 31 µs\n",
            "Wall time: 35 µs\n",
            "[(0, 4), (1, 0), (1, 3), (2, 2), (3, 2), (3, 4), (4, 3)]\n",
            "CPU times: user 0 ns, sys: 79 µs, total: 79 µs\n",
            "Wall time: 56.5 µs\n",
            "[(0, 4), (1, 0), (1, 3), (2, 2), (3, 2), (3, 4), (4, 3)]\n"
          ],
          "name": "stdout"
        }
      ]
    },
    {
      "cell_type": "markdown",
      "metadata": {
        "id": "j15fagt-_9Sv",
        "colab_type": "text"
      },
      "source": [
        "### Exercise 8\n",
        "\n",
        "Check the documentation for `np.diag` and `np.fliplr`. Use them to extract the diagonals arrays for `matrix`.\n",
        "\n"
      ]
    },
    {
      "cell_type": "code",
      "metadata": {
        "id": "0C4VA6H6B0Qn",
        "colab_type": "code",
        "colab": {
          "base_uri": "https://localhost:8080/",
          "height": 51
        },
        "outputId": "0ae74e9e-5ff0-42d9-98fb-0cb53bebf43a"
      },
      "source": [
        "diag1 = np.diag(matrix)\n",
        "print(diag1)\n",
        "diag2 = np.diag(np.fliplr(matrix))\n",
        "print(diag2)\n",
        "#testDiag1(diag1)\n",
        "#testDiag2(diag2)"
      ],
      "execution_count": null,
      "outputs": [
        {
          "output_type": "stream",
          "text": [
            "[1 2 0 1 4]\n",
            "[0 0 0 3 3]\n"
          ],
          "name": "stdout"
        }
      ]
    },
    {
      "cell_type": "markdown",
      "metadata": {
        "id": "-4_ujD9rCCKg",
        "colab_type": "text"
      },
      "source": [
        "### Exercise 9\n",
        "\n",
        "Get the values of the 3th column in `matrix` and the values for the 2th row in `matrix`. Both as numpy arrays.\n"
      ]
    },
    {
      "cell_type": "code",
      "metadata": {
        "id": "75SKt_ydCfCr",
        "colab_type": "code",
        "colab": {
          "base_uri": "https://localhost:8080/",
          "height": 51
        },
        "outputId": "ce65a145-ba47-4cbb-d563-0fb3db128ea7"
      },
      "source": [
        "column = matrix[:,2]\n",
        "print(column)\n",
        "row = matrix[1,:]\n",
        "print(row)\n",
        "#testColumn(column)\n",
        "#testRow(row)"
      ],
      "execution_count": null,
      "outputs": [
        {
          "output_type": "stream",
          "text": [
            "[7 9 0 0 1]\n",
            "[0 2 9 0 1]\n"
          ],
          "name": "stdout"
        }
      ]
    },
    {
      "cell_type": "markdown",
      "metadata": {
        "id": "FAYxMRG4jJUt",
        "colab_type": "text"
      },
      "source": [
        "## Exercise 10\n",
        "\n",
        "Create a new matrix ***x*** from ***a*** and ***m*** with the folowing structure:\n",
        "\n",
        "\n",
        "\n",
        "```\n",
        "array([[4, 4, 5, 4, 4],\n",
        "       [4, 4, 5, 4, 4],\n",
        "       [4, 4, 5, 4, 4]])\n",
        "```\n",
        "\n"
      ]
    },
    {
      "cell_type": "code",
      "metadata": {
        "id": "n_pobdHRjIVl",
        "colab_type": "code",
        "colab": {
          "base_uri": "https://localhost:8080/",
          "height": 68
        },
        "outputId": "0b6c6d6e-4952-4930-d806-8d5e9f995f3e"
      },
      "source": [
        "a = np.full((3, 1), 5)\n",
        "# print(a)\n",
        "m = np.full((3, 4), 4)\n",
        "# print(m)\n",
        "np.insert(m, 2, a.flatten(), axis=1)\n"
      ],
      "execution_count": null,
      "outputs": [
        {
          "output_type": "execute_result",
          "data": {
            "text/plain": [
              "array([[4, 4, 5, 4, 4],\n",
              "       [4, 4, 5, 4, 4],\n",
              "       [4, 4, 5, 4, 4]])"
            ]
          },
          "metadata": {
            "tags": []
          },
          "execution_count": 10
        }
      ]
    },
    {
      "cell_type": "markdown",
      "metadata": {
        "id": "5FkJzPeGAZMv",
        "colab_type": "text"
      },
      "source": [
        "## Exercise 11\n",
        "\n",
        "Given a:\n",
        "\n",
        "```\n",
        "a = array([[1],\n",
        "       [1],\n",
        "       [2],\n",
        "       [4]])\n",
        "```\n",
        "\n",
        "Create a new array **b** with the following structure:\n",
        "\n",
        "```\n",
        "np.array([\n",
        "  [1, 0, 0],\n",
        "  [1, 0, 0],\n",
        "  [0, 1, 0],\n",
        "  [0, 0, 1],\n",
        "])\n",
        "```\n",
        "Do you detect the pattern? Which operation do you need to create this structure.?\n",
        "\n",
        "\n"
      ]
    },
    {
      "cell_type": "code",
      "metadata": {
        "id": "FqBLf9h6AdRo",
        "colab_type": "code",
        "colab": {
          "base_uri": "https://localhost:8080/",
          "height": 85
        },
        "outputId": "a196e089-8a7c-45bb-c93c-6ace261f5551"
      },
      "source": [
        "# one hot encode excersise for numpy \n",
        "import numpy as np\n",
        "a = np.array([[1],\n",
        "       [1],\n",
        "       [2],\n",
        "       [4]])\n",
        "\n",
        "def fc(x):\n",
        "    return list(map(int, \"{0:b}\".format(x).zfill(3)))\n",
        "vfc = np.vectorize(fc, otypes=[list])\n",
        "tt = vfc(a[::-1].flatten())\n",
        "b = np.stack(tt)\n",
        "print(b)\n"
      ],
      "execution_count": 259,
      "outputs": [
        {
          "output_type": "stream",
          "text": [
            "[[1 0 0]\n",
            " [0 1 0]\n",
            " [0 0 1]\n",
            " [0 0 1]]\n"
          ],
          "name": "stdout"
        }
      ]
    },
    {
      "cell_type": "markdown",
      "metadata": {
        "id": "ZRGKiKtAw-NO",
        "colab_type": "text"
      },
      "source": [
        "# Challenge, Tic Tac Toe\n"
      ]
    },
    {
      "cell_type": "code",
      "metadata": {
        "id": "zXFw_11UxFYb",
        "colab_type": "code",
        "colab": {}
      },
      "source": [
        "import numpy as np\n",
        "\n",
        "cell = {\n",
        "    0: ' ',\n",
        "    1: 'X',\n",
        "    2: 'O'\n",
        "}\n",
        "\n",
        "def print_board():\n",
        "  print('-------------')\n",
        "  print(f'| {cell[game[0][0]]} | {cell[game[0][1]]} | {cell[game[0][2]]} |')\n",
        "  print('-------------')\n",
        "  print(f'| {cell[game[1][0]]} | {cell[game[1][1]]} | {cell[game[1][2]]} |')\n",
        "  print('-------------')\n",
        "  print(f'| {cell[game[2][0]]} | {cell[game[2][1]]} | {cell[game[2][2]]} |')\n",
        "  print('-------------')\n",
        "\n",
        "def skynet_move():\n",
        "  # Select a random empty cell in `game` array and set with value `2`.\n",
        "  # If no empty cells available, do nothing.\n",
        "  coords = [tuple(x) for x in np.array(np.where(game == 0)).T]\n",
        "  coords_len = len(coords)\n",
        "  if coords_len > 0:\n",
        "    coord = coords[np.random.randint(0, coords_len)]\n",
        "    game[coord] = 2\n",
        "\n",
        "def win_move(player, r, c):\n",
        "  # Check if the player's move is a win move.\n",
        "  # A win move meets one of these conditions:\n",
        "  #   - All values at row `r` are equal to `player`.\n",
        "  #   - All values at column `c` are equal to `player`.\n",
        "  #   - All values at main diagonal ((0, 0) to (2, 2)) are equal to  `player`.\n",
        "  #   - All values at second diagonal ((2, 0) to (0, 2)) are equal to  `player`.þ\n",
        "  # Return True if one of the conditions are met, False otherwise.\n",
        "  if np.all(game[r,:] == player) or np.all(game[:,c] == player) or np.all(np.diag(game) == player) or np.all(np.diag(np.fliplr(game)) == player):\n",
        "    return True\n",
        "\n",
        "  return False\n",
        "\n",
        "def human_move(r, c):\n",
        "  # Set value `1` at game[r][c] if the cell if empty and return True.\n",
        "  # If cell is not empty print \"Cell is not empty\" and return False.\n",
        "  if game[r, c] == 0:\n",
        "    game[r, c] = 1\n",
        "    return True\n",
        "  else:\n",
        "    print('Cell is not empty')\n",
        "    return False\n",
        "\n",
        "def winner_exists():\n",
        "  # If one of the players has already won the game, return True.\n",
        "  # Return False otherwise.\n",
        "  win_exist = False\n",
        "  for player in range(1,3):\n",
        "    for pos in range(0,3):\n",
        "      win_exist |= np.all(game[:,pos] == player)\n",
        "      win_exist |= np.all(game[pos,:] == player)\n",
        "  \n",
        "  return win_exist\n",
        "\n",
        "\n",
        "def is_game_on():\n",
        "  # This method checks the current status of the game.\n",
        "  # A game is on if meets one of two conditios:\n",
        "  #  - There is still available cells.\n",
        "  #  - There is still no winners. \n",
        "  if not winner_exists() and np.where(game == 0)[0].size > 0:\n",
        "    return True\n",
        "  else:\n",
        "    return False"
      ],
      "execution_count": null,
      "outputs": []
    },
    {
      "cell_type": "code",
      "metadata": {
        "id": "wmWZQJFA2Hl5",
        "colab_type": "code",
        "colab": {}
      },
      "source": [
        "# Run this cell to restart the game.\n",
        "\n",
        "# Create a 3x3 array with zero values.\n",
        "game = np.zeros((3,3), int)"
      ],
      "execution_count": null,
      "outputs": []
    },
    {
      "cell_type": "code",
      "metadata": {
        "id": "ErKaf7bw2X2Z",
        "colab_type": "code",
        "cellView": "both",
        "colab": {
          "base_uri": "https://localhost:8080/",
          "height": 153
        },
        "outputId": "614c0daf-0612-494c-bf59-8a030c962c8b"
      },
      "source": [
        "#@title Tic tac toe controls\n",
        "#@markdown Select the cell for your next move!.\n",
        "row_value = \"0\" #@param [\"0\", \"1\", \"2\", \"\"]\n",
        "column_value = \"2\" #@param [\"0\", \"1\", \"2\", \"\"]\n",
        "\n",
        "if row_value != \"\" and column_value != \"\":\n",
        "  row = int(row_value)\n",
        "  column = int(column_value)\n",
        "  if(is_game_on()):\n",
        "    status = human_move(row, column)\n",
        "    if(win_move(1, row, column)):\n",
        "      print('Human wins')\n",
        "    elif(status):\n",
        "      skynet_move()\n",
        "      if(win_move(2, row, column)):\n",
        "        print('Skynet wins')\n",
        "  else:\n",
        "    print('Game over.')\n",
        "else:\n",
        "  print('Please select your next move.')\n",
        "\n",
        "print_board()"
      ],
      "execution_count": null,
      "outputs": [
        {
          "output_type": "stream",
          "text": [
            "Game over.\n",
            "-------------\n",
            "| X |   | X |\n",
            "-------------\n",
            "| O | O | O |\n",
            "-------------\n",
            "| X | O | X |\n",
            "-------------\n"
          ],
          "name": "stdout"
        }
      ]
    },
    {
      "cell_type": "markdown",
      "metadata": {
        "id": "2Gl4XHf6JN24",
        "colab_type": "text"
      },
      "source": [
        "# Challenge: Basic data analysis\n",
        "\n",
        "The following numpy array is taken from the a census dataset. Every column in this matrix contains some demografic information. For this exercise You will focus in the following columns:\n",
        "\n",
        "*   Column[0]: Age\n",
        "*   Column[1]: workclass\n",
        "*   Column[3]: education\n",
        "*   Column[5]: marital-status\n",
        "*   Column[9]: sex\n",
        "*   Column[10]: capital-gain\n",
        "\n",
        "Please find the following information:\n",
        "\n",
        "\n",
        "*   Age average\n",
        "*   Types of workclass, education and marital-status\n",
        "*   How many records are for male\n",
        "*   How many records are for female\n",
        "*   How many females are above age of 30\n",
        "*   Avergage of capital-gain for males\n",
        "*   Avergage of capital-gain for females\n",
        "\n",
        "\n",
        "\n",
        "\n",
        "\n"
      ]
    },
    {
      "cell_type": "code",
      "metadata": {
        "id": "6deAST4wJiHf",
        "colab_type": "code",
        "colab": {
          "base_uri": "https://localhost:8080/",
          "height": 170
        },
        "outputId": "aacfe714-67fb-4a96-f4dc-9ebd3569825a"
      },
      "source": [
        "# First upload file \"census.npy\" befor running this cell.\n",
        "with open('census.npy', 'rb') as f:\n",
        "  census_data = np.load(f, allow_pickle=True)\n",
        "#census_data"
      ],
      "execution_count": 116,
      "outputs": [
        {
          "output_type": "execute_result",
          "data": {
            "text/plain": [
              "array([[50, ' Self-emp-not-inc', 83311, ..., 13, ' United-States',\n",
              "        ' <=50K'],\n",
              "       [38, ' Private', 215646, ..., 40, ' United-States', ' <=50K'],\n",
              "       [53, ' Private', 234721, ..., 40, ' United-States', ' <=50K'],\n",
              "       ...,\n",
              "       [58, ' Private', 151910, ..., 40, ' United-States', ' <=50K'],\n",
              "       [22, ' Private', 201490, ..., 20, ' United-States', ' <=50K'],\n",
              "       [52, ' Self-emp-inc', 287927, ..., 40, ' United-States', ' >50K']],\n",
              "      dtype=object)"
            ]
          },
          "metadata": {
            "tags": []
          },
          "execution_count": 116
        }
      ]
    },
    {
      "cell_type": "code",
      "metadata": {
        "id": "LeTG26Am8cT8",
        "colab_type": "code",
        "colab": {
          "base_uri": "https://localhost:8080/",
          "height": 34
        },
        "outputId": "e148cdd0-87a2-4fff-a1ed-a419e352f636"
      },
      "source": [
        "print('Age average: ', census_data[:,0].mean())"
      ],
      "execution_count": 173,
      "outputs": [
        {
          "output_type": "stream",
          "text": [
            "Age average:  38.581633906633904\n"
          ],
          "name": "stdout"
        }
      ]
    },
    {
      "cell_type": "code",
      "metadata": {
        "id": "dNLm6FP29F6Z",
        "colab_type": "code",
        "colab": {
          "base_uri": "https://localhost:8080/",
          "height": 187
        },
        "outputId": "96a51b60-0cc9-44ff-d5bc-211371787a2b"
      },
      "source": [
        "print('Type of workclass:')\n",
        "print(np.unique(census_data[:,1]))\n",
        "print('Type of education:')\n",
        "print(np.unique(census_data[:,3]))\n",
        "print('Type of marital-status:')\n",
        "print(np.unique(census_data[:,5]))  "
      ],
      "execution_count": 151,
      "outputs": [
        {
          "output_type": "stream",
          "text": [
            "Type of workclass:\n",
            "[' ?' ' Federal-gov' ' Local-gov' ' Never-worked' ' Private'\n",
            " ' Self-emp-inc' ' Self-emp-not-inc' ' State-gov' ' Without-pay']\n",
            "Type of education:\n",
            "[' 10th' ' 11th' ' 12th' ' 1st-4th' ' 5th-6th' ' 7th-8th' ' 9th'\n",
            " ' Assoc-acdm' ' Assoc-voc' ' Bachelors' ' Doctorate' ' HS-grad'\n",
            " ' Masters' ' Preschool' ' Prof-school' ' Some-college']\n",
            "Type of marital-status:\n",
            "[' Divorced' ' Married-AF-spouse' ' Married-civ-spouse'\n",
            " ' Married-spouse-absent' ' Never-married' ' Separated' ' Widowed']\n"
          ],
          "name": "stdout"
        }
      ]
    },
    {
      "cell_type": "code",
      "metadata": {
        "id": "bczXBS1eEG53",
        "colab_type": "code",
        "colab": {
          "base_uri": "https://localhost:8080/",
          "height": 51
        },
        "outputId": "53e2dd15-1b74-4934-84dc-07cda9dab1b7"
      },
      "source": [
        "sex=census_data[:,9]\n",
        "print('Females count: ', np.count_nonzero(sex ==' Female'))\n",
        "print('Males count: ', np.count_nonzero(sex ==' Male'))"
      ],
      "execution_count": 204,
      "outputs": [
        {
          "output_type": "stream",
          "text": [
            "Females count:  10771\n",
            "Males count:  21789\n"
          ],
          "name": "stdout"
        }
      ]
    },
    {
      "cell_type": "code",
      "metadata": {
        "id": "DXXBzDr1Jqq2",
        "colab_type": "code",
        "colab": {
          "base_uri": "https://localhost:8080/",
          "height": 34
        },
        "outputId": "5022c09e-eb22-417a-f504-313540c47eac"
      },
      "source": [
        "females_gt_30 = np.count_nonzero((census_data[:,9] == ' Female') & (census_data[:,0] > 30))\n",
        "print('Females count greater than 30: ', females_gt_30)\n",
        "\n",
        "# a = census_data[(census_data[:,9] == ' Female') & (census_data[:,0] > 30)]\n",
        "# len(a[:, (0,9)])"
      ],
      "execution_count": 205,
      "outputs": [
        {
          "output_type": "stream",
          "text": [
            "Females count greater than 30:  6512\n"
          ],
          "name": "stdout"
        }
      ]
    },
    {
      "cell_type": "code",
      "metadata": {
        "id": "FZXToq8tYiU5",
        "colab_type": "code",
        "colab": {}
      },
      "source": [
        ""
      ],
      "execution_count": null,
      "outputs": []
    },
    {
      "cell_type": "code",
      "metadata": {
        "id": "wtRUbDOMR-Ze",
        "colab_type": "code",
        "colab": {
          "base_uri": "https://localhost:8080/",
          "height": 51
        },
        "outputId": "17d23831-23a8-4ba0-9905-679637142bc5"
      },
      "source": [
        "print('Avergage of capital-gain for males: ', census_data[(census_data[:,9] == ' Male')][:,10].mean())\n",
        "print('Avergage of capital-gain for females: ', census_data[(census_data[:,9] == ' Female')][:,10].mean())"
      ],
      "execution_count": 246,
      "outputs": [
        {
          "output_type": "stream",
          "text": [
            "Avergage of capital-gain for males:  1329.3313139657625\n",
            "Avergage of capital-gain for females:  568.4105468387336\n"
          ],
          "name": "stdout"
        }
      ]
    },
    {
      "cell_type": "code",
      "metadata": {
        "id": "rmUHklyzWMjJ",
        "colab_type": "code",
        "colab": {}
      },
      "source": [
        ""
      ],
      "execution_count": null,
      "outputs": []
    }
  ]
}